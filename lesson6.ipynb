{
 "cells": [
  {
   "cell_type": "markdown",
   "id": "c58a9759",
   "metadata": {},
   "source": [
    "# OpenCompass大模型评测\n",
    "## 评测三问\n",
    "### 为什么要评测？\n",
    "模型选型  \n",
    "模型能力提升  \n",
    "真实应用场景效果评测\n",
    "### 我们需要测什么？\n",
    "知识、推理、语言  \n",
    "长文本、智能体、多轮对话  \n",
    "情感、认知、价值观\n",
    "### 怎么样测试大语言模型？\n",
    "自动化客观评测  \n",
    "人机交互评测  \n",
    "基于大模型的大模型评测\n",
    "## 实战部分"
   ]
  },
  {
   "cell_type": "code",
   "execution_count": null,
   "id": "49b99329",
   "metadata": {},
   "outputs": [],
   "source": []
  }
 ],
 "metadata": {
  "kernelspec": {
   "display_name": "Python 3 (ipykernel)",
   "language": "python",
   "name": "python3"
  },
  "language_info": {
   "codemirror_mode": {
    "name": "ipython",
    "version": 3
   },
   "file_extension": ".py",
   "mimetype": "text/x-python",
   "name": "python",
   "nbconvert_exporter": "python",
   "pygments_lexer": "ipython3",
   "version": "3.11.5"
  }
 },
 "nbformat": 4,
 "nbformat_minor": 5
}
