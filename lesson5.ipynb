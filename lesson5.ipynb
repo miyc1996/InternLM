{
 "cells": [
  {
   "cell_type": "markdown",
   "id": "0122add2",
   "metadata": {},
   "source": [
    "# LMDeploy大模型量化部署实践\n",
    "## 大模型部署背景\n",
    "### 模型部署\n",
    "### 大模型特点\n",
    "### 大模型部署挑战\n",
    "### 大模型部署方案\n",
    "## LMDeploy简介\n",
    "## 动手实践环节"
   ]
  },
  {
   "cell_type": "code",
   "execution_count": null,
   "id": "ba8eba12",
   "metadata": {},
   "outputs": [],
   "source": []
  }
 ],
 "metadata": {
  "kernelspec": {
   "display_name": "Python 3 (ipykernel)",
   "language": "python",
   "name": "python3"
  },
  "language_info": {
   "codemirror_mode": {
    "name": "ipython",
    "version": 3
   },
   "file_extension": ".py",
   "mimetype": "text/x-python",
   "name": "python",
   "nbconvert_exporter": "python",
   "pygments_lexer": "ipython3",
   "version": "3.11.5"
  }
 },
 "nbformat": 4,
 "nbformat_minor": 5
}
