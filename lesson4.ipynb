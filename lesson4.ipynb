{
 "cells": [
  {
   "cell_type": "markdown",
   "id": "6c0aff85",
   "metadata": {},
   "source": [
    "# XTuner 大模型单卡低成本微调实战"
   ]
  },
  {
   "cell_type": "markdown",
   "id": "2db901f3",
   "metadata": {},
   "source": [
    "## Finetune的简介\n",
    "## XTuner介绍\n",
    "## 8GB显卡玩转LLM\n",
    "## 动手实战环节"
   ]
  },
  {
   "cell_type": "code",
   "execution_count": null,
   "id": "a2dcdc9f",
   "metadata": {},
   "outputs": [],
   "source": []
  }
 ],
 "metadata": {
  "kernelspec": {
   "display_name": "Python 3 (ipykernel)",
   "language": "python",
   "name": "python3"
  },
  "language_info": {
   "codemirror_mode": {
    "name": "ipython",
    "version": 3
   },
   "file_extension": ".py",
   "mimetype": "text/x-python",
   "name": "python",
   "nbconvert_exporter": "python",
   "pygments_lexer": "ipython3",
   "version": "3.11.5"
  }
 },
 "nbformat": 4,
 "nbformat_minor": 5
}
