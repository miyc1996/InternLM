{
 "cells": [
  {
   "cell_type": "markdown",
   "id": "16c0a8a4",
   "metadata": {},
   "source": [
    "# 基于InternLM和LangChain搭建你的知识库"
   ]
  },
  {
   "cell_type": "markdown",
   "id": "923dfaa3",
   "metadata": {},
   "source": [
    "## 大模型开发范式\n",
    "### LLM的局限性\n",
    "知识时效性受限：如何让LLM能够获取最新的知识  \n",
    "专业能力有限：如何打造垂域大模型  \n",
    "定制化成本高：如何打造个人专属的LLM应用  \n",
    "### 两种开发范式-RAG v.s. Finetune\n",
    "## LangChain简介\n",
    "\n",
    "## 构建向量知识库\n",
    "### 加载源文件\n",
    "### 文档分块\n",
    "### 文档向量化\n",
    "## 搭建知识库助手\n",
    "### 将InternLM接入LangChain\n",
    "### 构建知识问答链\n",
    "### RAG方案优化建议\n",
    "## Web Demo部署\n",
    "Gradio  \n",
    "Streamlit  \n",
    "## 动手实战环节"
   ]
  },
  {
   "cell_type": "code",
   "execution_count": null,
   "id": "aa336de3",
   "metadata": {},
   "outputs": [],
   "source": []
  }
 ],
 "metadata": {
  "kernelspec": {
   "display_name": "Python 3 (ipykernel)",
   "language": "python",
   "name": "python3"
  },
  "language_info": {
   "codemirror_mode": {
    "name": "ipython",
    "version": 3
   },
   "file_extension": ".py",
   "mimetype": "text/x-python",
   "name": "python",
   "nbconvert_exporter": "python",
   "pygments_lexer": "ipython3",
   "version": "3.11.5"
  }
 },
 "nbformat": 4,
 "nbformat_minor": 5
}
