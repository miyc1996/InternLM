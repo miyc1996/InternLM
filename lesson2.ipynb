{
 "cells": [
  {
   "cell_type": "markdown",
   "id": "4db6efed",
   "metadata": {},
   "source": [
    "# 轻松玩转书生·浦语大模型趣味 Demo   \n"
   ]
  },
  {
   "cell_type": "markdown",
   "id": "06ac6871",
   "metadata": {},
   "source": [
    "## 大模型及 InternLM 模型简介\n"
   ]
  },
  {
   "cell_type": "markdown",
   "id": "dc167144",
   "metadata": {},
   "source": [
    "### 什么是大模型？\n",
    "  大模型通常指的是机器学习或人工智能领域中参数数量巨大、拥有庞大计算能力和参数规模的模型。这些模型利用大量数据进行训练，并且拥有数十亿甚至数千亿个参数。大模型的出现和发展得益于增长的数据量、计算能力的提升以及算法优化等因素。这些模型在各种任务中展现出惊人的性能，比如自然语言处理、计算机视觉、语音识别等。这种模型通常采用深度神经网络结构，如 Transformer、BERT、GPT（ Generative Pre-trained Transformer ）等。  \n",
    "   大模型的优势在于其能够捕捉和理解数据中更为复杂、抽象的特征和关系。通过大规模参数的学习，它们可以提高在各种任务上的泛化能力，并在未经过大量特定领域数据训练的情况下实现较好的表现。然而，大模型也面临着一些挑战，比如巨大的计算资源需求、高昂的训练成本、对大规模数据的依赖以及模型的可解释性等问题。因此，大模型的应用和发展也需要在性能、成本和道德等多个方面进行权衡和考量。"
   ]
  },
  {
   "cell_type": "markdown",
   "id": "54640da2",
   "metadata": {},
   "source": [
    "### InternLM 模型全链条开源"
   ]
  },
  {
   "cell_type": "markdown",
   "id": "1cc0c2ab",
   "metadata": {},
   "source": [
    "### InternLM-Chat-7B 智能对话 Demo\n",
    "1、创建开发机、搭建环境  \n",
    "2、下载模型（开发机的模型已经下好，如果下载至本地时间较长，且需要挂代理）  \n",
    "3、克隆代码，路径修改  \n",
    "4、本地运行demo  \n",
    "5、web运行demo"
   ]
  },
  {
   "cell_type": "markdown",
   "id": "3dc5053b",
   "metadata": {},
   "source": [
    " ### Lagent 智能体工具调用 Demo\n",
    "1、创建开发机、搭建环境  \n",
    "2、下载模型 \n",
    "3、克隆代码  \n",
    "4、代码修改   \n",
    "5、web运行demo"
   ]
  },
  {
   "cell_type": "markdown",
   "id": "cc10775b",
   "metadata": {},
   "source": [
    "### 浦语·灵笔图文理解创作 Demo\n",
    "1、创建开发机、搭建环境  \n",
    "2、下载模型  \n",
    "3、克隆代码  \n",
    "4、web运行demo"
   ]
  },
  {
   "cell_type": "markdown",
   "id": "780287dc",
   "metadata": {},
   "source": [
    "### 个人心得\n",
    "在算力允许的范围内，使用本地运行大模型并进行功能改进是否可行？demo中支持多种模态的文件输入，最终能否通过服务器配置到各用户端做各模态的任务，各用户端完成任务后回传至终端从而构成一个大的控制器？"
   ]
  },
  {
   "cell_type": "code",
   "execution_count": null,
   "id": "1d977a2d",
   "metadata": {},
   "outputs": [],
   "source": []
  }
 ],
 "metadata": {
  "kernelspec": {
   "display_name": "Python 3 (ipykernel)",
   "language": "python",
   "name": "python3"
  },
  "language_info": {
   "codemirror_mode": {
    "name": "ipython",
    "version": 3
   },
   "file_extension": ".py",
   "mimetype": "text/x-python",
   "name": "python",
   "nbconvert_exporter": "python",
   "pygments_lexer": "ipython3",
   "version": "3.11.5"
  }
 },
 "nbformat": 4,
 "nbformat_minor": 5
}
