{
 "cells": [
  {
   "cell_type": "markdown",
   "id": "651ebef0-f42b-4e04-922e-fcf04315e1a1",
   "metadata": {},
   "source": [
    "# 大模型全链路开源体系"
   ]
  },
  {
   "cell_type": "markdown",
   "id": "9b0c8f3a-04a3-4402-9298-a24014ba47dd",
   "metadata": {},
   "source": [
    "## 大模型的发展迅速"
   ]
  },
  {
   "cell_type": "markdown",
   "id": "84f7bf58-0453-42c5-b5c8-d0c0ed4acb72",
   "metadata": {},
   "source": [
    "1、大模型逐渐成为热门话题  \n",
    "2、大模型成为发展人工智能的重要途径，从专用模型向通用大模型发展（如chatgpt）"
   ]
  },
  {
   "cell_type": "markdown",
   "id": "0e8eb5f6-a81c-4c9e-ba0b-f68abf2cbbea",
   "metadata": {},
   "source": [
    "## 书生·浦语大模型"
   ]
  },
  {
   "cell_type": "markdown",
   "id": "17cb5782-e02c-46ba-998e-200ee88dca8f",
   "metadata": {},
   "source": [
    "体量：  \n",
    "轻量型：社区应用  \n",
    "中量级：商用场景应用  \n",
    "重量级：广域覆盖  \n",
    "性能表现：  \n",
    "与其他大模型相比具有较全面的优势"
   ]
  },
  {
   "cell_type": "markdown",
   "id": "9f4aa14b-a007-4122-baad-f9be3843e44f",
   "metadata": {},
   "source": [
    "## 从模型到应用"
   ]
  },
  {
   "cell_type": "markdown",
   "id": "9956c357-ee6e-4687-8d2b-73ee6c570be6",
   "metadata": {},
   "source": [
    "合理选择模型（模型评测）  \n",
    "1）首先考虑模型的业务场景是否复杂，从而决定是否微调模型  \n",
    "2）若场景不复杂则直接进行5），若场景复杂则需要考虑算力是否足够  \n",
    "3）若算力足够，则对模型继续训练或进行全参数微调，否则对部分参数进行微调  \n",
    "4）考虑是否需要环境交互，如需要，则需构建智能体，如不需要，直接进行5）\n",
    "5）进行模型评测\n",
    "6）模型评测通过后部署模型"
   ]
  },
  {
   "cell_type": "markdown",
   "id": "7bb418e8-e6de-4567-a5e3-f62336bfd0b4",
   "metadata": {},
   "source": [
    "## 全链条开放体系\n"
   ]
  },
  {
   "cell_type": "raw",
   "id": "1a064f78-8955-4f04-a792-be2691d6de81",
   "metadata": {},
   "source": [
    "数据->预训练->微调->部署->评测->应用  \n",
    "1、数据  \n",
    "书生万卷1.0：  \n",
    "包含了文本数据、图像文本数据集、视频数据  \n",
    "具有多模态融合、精细化处理、价值观对齐的特点  \n",
    "opendatalab数据平台  \n",
    "丰富多样的开放数据、飞速成长的数据量、模态和数据规模、较为全面的服务与工具\n",
    "2、预训练  \n",
    "具有高可扩展、极致性能优化、兼容主流以及开箱即用的特点  \n",
    "3、微调  \n",
    "主要方式：增量续训、有监督微调  \n",
    "XTUNER微调框架  \n",
    "具有适配多种生态、适配多种硬件的特点  \n"
   ]
  },
  {
   "cell_type": "raw",
   "id": "0be889ec-03a5-4b99-93fa-77d249c9a50f",
   "metadata": {},
   "source": []
  }
 ],
 "metadata": {
  "kernelspec": {
   "display_name": "Python 3 (ipykernel)",
   "language": "python",
   "name": "python3"
  },
  "language_info": {
   "codemirror_mode": {
    "name": "ipython",
    "version": 3
   },
   "file_extension": ".py",
   "mimetype": "text/x-python",
   "name": "python",
   "nbconvert_exporter": "python",
   "pygments_lexer": "ipython3",
   "version": "3.11.7"
  }
 },
 "nbformat": 4,
 "nbformat_minor": 5
}
